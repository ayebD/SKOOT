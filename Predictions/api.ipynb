{
 "cells": [
  {
   "cell_type": "code",
   "execution_count": 1,
   "metadata": {},
   "outputs": [
    {
     "data": {
      "text/html": [
       "<pre style=\"white-space:pre;overflow-x:auto;line-height:normal;font-family:Menlo,'DejaVu Sans Mono',consolas,'Courier New',monospace\"><span style=\"color: #7fbfbf; text-decoration-color: #7fbfbf\">[03/31/23 00:09:52] </span><span style=\"color: #000080; text-decoration-color: #000080\">INFO    </span> No custom team name replacements found. You can configure these in       <span style=\"color: #7f7f7f; text-decoration-color: #7f7f7f\">_config.py:85</span>\n",
       "<span style=\"color: #7fbfbf; text-decoration-color: #7fbfbf\">                    </span>         C:\\Users\\Dhiaeddine Ayeb\\soccerdata\\config\\teamname_replacements.json.   <span style=\"color: #7f7f7f; text-decoration-color: #7f7f7f\">             </span>\n",
       "</pre>\n"
      ],
      "text/plain": [
       "\u001b[2;36m[03/31/23 00:09:52]\u001b[0m\u001b[2;36m \u001b[0m\u001b[34mINFO    \u001b[0m No custom team name replacements found. You can configure these in       \u001b[2m_config.py\u001b[0m\u001b[2m:\u001b[0m\u001b[2m85\u001b[0m\n",
       "\u001b[2;36m                    \u001b[0m         C:\\Users\\Dhiaeddine Ayeb\\soccerdata\\config\\teamname_replacements.json.   \u001b[2m             \u001b[0m\n"
      ]
     },
     "metadata": {},
     "output_type": "display_data"
    },
    {
     "data": {
      "text/html": [
       "<pre style=\"white-space:pre;overflow-x:auto;line-height:normal;font-family:Menlo,'DejaVu Sans Mono',consolas,'Courier New',monospace\"><span style=\"color: #7fbfbf; text-decoration-color: #7fbfbf\">                    </span><span style=\"color: #000080; text-decoration-color: #000080\">INFO    </span> No custom league dict found. You can configure additional leagues in    <span style=\"color: #7f7f7f; text-decoration-color: #7f7f7f\">_config.py:159</span>\n",
       "<span style=\"color: #7fbfbf; text-decoration-color: #7fbfbf\">                    </span>         C:\\Users\\Dhiaeddine Ayeb\\soccerdata\\config\\league_dict.json.            <span style=\"color: #7f7f7f; text-decoration-color: #7f7f7f\">              </span>\n",
       "</pre>\n"
      ],
      "text/plain": [
       "\u001b[2;36m                   \u001b[0m\u001b[2;36m \u001b[0m\u001b[34mINFO    \u001b[0m No custom league dict found. You can configure additional leagues in    \u001b[2m_config.py\u001b[0m\u001b[2m:\u001b[0m\u001b[2m159\u001b[0m\n",
       "\u001b[2;36m                    \u001b[0m         C:\\Users\\Dhiaeddine Ayeb\\soccerdata\\config\\league_dict.json.            \u001b[2m              \u001b[0m\n"
      ]
     },
     "metadata": {},
     "output_type": "display_data"
    },
    {
     "data": {
      "text/html": [
       "<pre style=\"white-space:pre;overflow-x:auto;line-height:normal;font-family:Menlo,'DejaVu Sans Mono',consolas,'Courier New',monospace\"><span style=\"color: #7fbfbf; text-decoration-color: #7fbfbf\">                    </span><span style=\"color: #000080; text-decoration-color: #000080\">INFO    </span> Saving cached data to C:\\Users\\Dhiaeddine Ayeb\\soccerdata\\data\\FBref     <span style=\"color: #7f7f7f; text-decoration-color: #7f7f7f\">_common.py:89</span>\n",
       "</pre>\n"
      ],
      "text/plain": [
       "\u001b[2;36m                   \u001b[0m\u001b[2;36m \u001b[0m\u001b[34mINFO    \u001b[0m Saving cached data to C:\\Users\\Dhiaeddine Ayeb\\soccerdata\\data\\FBref     \u001b[2m_common.py\u001b[0m\u001b[2m:\u001b[0m\u001b[2m89\u001b[0m\n"
      ]
     },
     "metadata": {},
     "output_type": "display_data"
    },
    {
     "name": "stderr",
     "output_type": "stream",
     "text": [
      "c:\\Users\\Dhiaeddine Ayeb\\AppData\\Local\\Programs\\Python\\Python311\\Lib\\site-packages\\soccerdata\\_common.py:462: UserWarning: Season id \"2021\" is ambiguous: interpreting as \"20-21\"\n",
      "  warnings.warn(msg)\n"
     ]
    },
    {
     "data": {
      "text/html": [
       "<pre style=\"white-space:pre;overflow-x:auto;line-height:normal;font-family:Menlo,'DejaVu Sans Mono',consolas,'Courier New',monospace\"><span style=\"color: #7fbfbf; text-decoration-color: #7fbfbf\">[03/31/23 00:09:53] </span><span style=\"color: #000080; text-decoration-color: #000080\">INFO    </span> Saving cached data to C:\\Users\\Dhiaeddine Ayeb\\soccerdata\\data\\FBref     <span style=\"color: #7f7f7f; text-decoration-color: #7f7f7f\">_common.py:89</span>\n",
       "</pre>\n"
      ],
      "text/plain": [
       "\u001b[2;36m[03/31/23 00:09:53]\u001b[0m\u001b[2;36m \u001b[0m\u001b[34mINFO    \u001b[0m Saving cached data to C:\\Users\\Dhiaeddine Ayeb\\soccerdata\\data\\FBref     \u001b[2m_common.py\u001b[0m\u001b[2m:\u001b[0m\u001b[2m89\u001b[0m\n"
      ]
     },
     "metadata": {},
     "output_type": "display_data"
    },
    {
     "name": "stderr",
     "output_type": "stream",
     "text": [
      "c:\\Users\\Dhiaeddine Ayeb\\AppData\\Local\\Programs\\Python\\Python311\\Lib\\site-packages\\soccerdata\\_common.py:462: UserWarning: Season id \"2021\" is ambiguous: interpreting as \"20-21\"\n",
      "  warnings.warn(msg)\n"
     ]
    },
    {
     "data": {
      "text/html": [
       "<pre style=\"white-space:pre;overflow-x:auto;line-height:normal;font-family:Menlo,'DejaVu Sans Mono',consolas,'Courier New',monospace\"><span style=\"color: #7fbfbf; text-decoration-color: #7fbfbf\">                    </span><span style=\"color: #000080; text-decoration-color: #000080\">INFO    </span> Saving cached data to C:\\Users\\Dhiaeddine Ayeb\\soccerdata\\data\\FBref     <span style=\"color: #7f7f7f; text-decoration-color: #7f7f7f\">_common.py:89</span>\n",
       "</pre>\n"
      ],
      "text/plain": [
       "\u001b[2;36m                   \u001b[0m\u001b[2;36m \u001b[0m\u001b[34mINFO    \u001b[0m Saving cached data to C:\\Users\\Dhiaeddine Ayeb\\soccerdata\\data\\FBref     \u001b[2m_common.py\u001b[0m\u001b[2m:\u001b[0m\u001b[2m89\u001b[0m\n"
      ]
     },
     "metadata": {},
     "output_type": "display_data"
    },
    {
     "name": "stderr",
     "output_type": "stream",
     "text": [
      "c:\\Users\\Dhiaeddine Ayeb\\AppData\\Local\\Programs\\Python\\Python311\\Lib\\site-packages\\soccerdata\\_common.py:462: UserWarning: Season id \"2021\" is ambiguous: interpreting as \"20-21\"\n",
      "  warnings.warn(msg)\n"
     ]
    },
    {
     "data": {
      "text/html": [
       "<pre style=\"white-space:pre;overflow-x:auto;line-height:normal;font-family:Menlo,'DejaVu Sans Mono',consolas,'Courier New',monospace\"><span style=\"color: #7fbfbf; text-decoration-color: #7fbfbf\">[03/31/23 00:09:54] </span><span style=\"color: #000080; text-decoration-color: #000080\">INFO    </span> Saving cached data to C:\\Users\\Dhiaeddine Ayeb\\soccerdata\\data\\FBref     <span style=\"color: #7f7f7f; text-decoration-color: #7f7f7f\">_common.py:89</span>\n",
       "</pre>\n"
      ],
      "text/plain": [
       "\u001b[2;36m[03/31/23 00:09:54]\u001b[0m\u001b[2;36m \u001b[0m\u001b[34mINFO    \u001b[0m Saving cached data to C:\\Users\\Dhiaeddine Ayeb\\soccerdata\\data\\FBref     \u001b[2m_common.py\u001b[0m\u001b[2m:\u001b[0m\u001b[2m89\u001b[0m\n"
      ]
     },
     "metadata": {},
     "output_type": "display_data"
    },
    {
     "name": "stderr",
     "output_type": "stream",
     "text": [
      "c:\\Users\\Dhiaeddine Ayeb\\AppData\\Local\\Programs\\Python\\Python311\\Lib\\site-packages\\soccerdata\\_common.py:462: UserWarning: Season id \"2021\" is ambiguous: interpreting as \"20-21\"\n",
      "  warnings.warn(msg)\n"
     ]
    },
    {
     "data": {
      "text/html": [
       "<pre style=\"white-space:pre;overflow-x:auto;line-height:normal;font-family:Menlo,'DejaVu Sans Mono',consolas,'Courier New',monospace\"><span style=\"color: #7fbfbf; text-decoration-color: #7fbfbf\">[03/31/23 00:09:55] </span><span style=\"color: #000080; text-decoration-color: #000080\">INFO    </span> Saving cached data to C:\\Users\\Dhiaeddine Ayeb\\soccerdata\\data\\FBref     <span style=\"color: #7f7f7f; text-decoration-color: #7f7f7f\">_common.py:89</span>\n",
       "</pre>\n"
      ],
      "text/plain": [
       "\u001b[2;36m[03/31/23 00:09:55]\u001b[0m\u001b[2;36m \u001b[0m\u001b[34mINFO    \u001b[0m Saving cached data to C:\\Users\\Dhiaeddine Ayeb\\soccerdata\\data\\FBref     \u001b[2m_common.py\u001b[0m\u001b[2m:\u001b[0m\u001b[2m89\u001b[0m\n"
      ]
     },
     "metadata": {},
     "output_type": "display_data"
    },
    {
     "name": "stderr",
     "output_type": "stream",
     "text": [
      "c:\\Users\\Dhiaeddine Ayeb\\AppData\\Local\\Programs\\Python\\Python311\\Lib\\site-packages\\soccerdata\\_common.py:462: UserWarning: Season id \"2021\" is ambiguous: interpreting as \"20-21\"\n",
      "  warnings.warn(msg)\n"
     ]
    },
    {
     "name": "stdout",
     "output_type": "stream",
     "text": [
      " * Serving Flask app '__main__'\n",
      " * Debug mode: off\n"
     ]
    },
    {
     "data": {
      "text/html": [
       "<pre style=\"white-space:pre;overflow-x:auto;line-height:normal;font-family:Menlo,'DejaVu Sans Mono',consolas,'Courier New',monospace\"><span style=\"color: #7fbfbf; text-decoration-color: #7fbfbf\">[03/31/23 00:09:56] </span><span style=\"color: #000080; text-decoration-color: #000080\">INFO    </span> \u001b<span style=\"font-weight: bold\">[</span>31m\u001b<span style=\"font-weight: bold\">[</span>1mWARNING: This is a development server. Do not use it in a      <span style=\"color: #7f7f7f; text-decoration-color: #7f7f7f\">_internal.py:224</span>\n",
       "<span style=\"color: #7fbfbf; text-decoration-color: #7fbfbf\">                    </span>         production deployment. Use a production WSGI server instead.\u001b<span style=\"font-weight: bold\">[</span>0m       <span style=\"color: #7f7f7f; text-decoration-color: #7f7f7f\">                </span>\n",
       "<span style=\"color: #7fbfbf; text-decoration-color: #7fbfbf\">                    </span>          * Running on <span style=\"color: #0000ff; text-decoration-color: #0000ff; text-decoration: underline\">http://127.0.0.1:5000</span>                                   <span style=\"color: #7f7f7f; text-decoration-color: #7f7f7f\">                </span>\n",
       "</pre>\n"
      ],
      "text/plain": [
       "\u001b[2;36m[03/31/23 00:09:56]\u001b[0m\u001b[2;36m \u001b[0m\u001b[34mINFO    \u001b[0m \u001b\u001b[1m[\u001b[0m31m\u001b\u001b[1m[\u001b[0m1mWARNING: This is a development server. Do not use it in a      \u001b[2m_internal.py\u001b[0m\u001b[2m:\u001b[0m\u001b[2m224\u001b[0m\n",
       "\u001b[2;36m                    \u001b[0m         production deployment. Use a production WSGI server instead.\u001b\u001b[1m[\u001b[0m0m       \u001b[2m                \u001b[0m\n",
       "\u001b[2;36m                    \u001b[0m          * Running on \u001b[4;94mhttp://127.0.0.1:5000\u001b[0m                                   \u001b[2m                \u001b[0m\n"
      ]
     },
     "metadata": {},
     "output_type": "display_data"
    },
    {
     "data": {
      "text/html": [
       "<pre style=\"white-space:pre;overflow-x:auto;line-height:normal;font-family:Menlo,'DejaVu Sans Mono',consolas,'Courier New',monospace\"><span style=\"color: #7fbfbf; text-decoration-color: #7fbfbf\">                    </span><span style=\"color: #000080; text-decoration-color: #000080\">INFO    </span> \u001b<span style=\"font-weight: bold\">[</span>33mPress CTRL+C to quit\u001b<span style=\"font-weight: bold\">[</span>0m                                           <span style=\"color: #7f7f7f; text-decoration-color: #7f7f7f\">_internal.py:224</span>\n",
       "</pre>\n"
      ],
      "text/plain": [
       "\u001b[2;36m                   \u001b[0m\u001b[2;36m \u001b[0m\u001b[34mINFO    \u001b[0m \u001b\u001b[1m[\u001b[0m33mPress CTRL+C to quit\u001b\u001b[1m[\u001b[0m0m                                           \u001b[2m_internal.py\u001b[0m\u001b[2m:\u001b[0m\u001b[2m224\u001b[0m\n"
      ]
     },
     "metadata": {},
     "output_type": "display_data"
    },
    {
     "data": {
      "text/html": [
       "<pre style=\"white-space:pre;overflow-x:auto;line-height:normal;font-family:Menlo,'DejaVu Sans Mono',consolas,'Courier New',monospace\"><span style=\"color: #7fbfbf; text-decoration-color: #7fbfbf\">[03/31/23 00:09:58] </span><span style=\"color: #000080; text-decoration-color: #000080\">INFO    </span> <span style=\"color: #00ff00; text-decoration-color: #00ff00; font-weight: bold\">127.0.0.1</span> - - <span style=\"font-weight: bold\">[</span><span style=\"color: #008080; text-decoration-color: #008080; font-weight: bold\">31</span>/Mar/<span style=\"color: #008080; text-decoration-color: #008080; font-weight: bold\">2023</span> <span style=\"color: #00ff00; text-decoration-color: #00ff00; font-weight: bold\">00:09:58</span><span style=\"font-weight: bold\">]</span> <span style=\"color: #008000; text-decoration-color: #008000\">\"</span><span style=\"color: #808000; text-decoration-color: #808000; font-weight: bold\">GET</span><span style=\"color: #008000; text-decoration-color: #008000\"> /data HTTP/1.1\"</span> <span style=\"color: #008080; text-decoration-color: #008080; font-weight: bold\">200</span> -       <span style=\"color: #7f7f7f; text-decoration-color: #7f7f7f\">_internal.py:224</span>\n",
       "</pre>\n"
      ],
      "text/plain": [
       "\u001b[2;36m[03/31/23 00:09:58]\u001b[0m\u001b[2;36m \u001b[0m\u001b[34mINFO    \u001b[0m \u001b[1;92m127.0.0.1\u001b[0m - - \u001b[1m[\u001b[0m\u001b[1;36m31\u001b[0m/Mar/\u001b[1;36m2023\u001b[0m \u001b[1;92m00:09:58\u001b[0m\u001b[1m]\u001b[0m \u001b[32m\"\u001b[0m\u001b[1;33mGET\u001b[0m\u001b[32m /data HTTP/1.1\"\u001b[0m \u001b[1;36m200\u001b[0m -       \u001b[2m_internal.py\u001b[0m\u001b[2m:\u001b[0m\u001b[2m224\u001b[0m\n"
      ]
     },
     "metadata": {},
     "output_type": "display_data"
    },
    {
     "data": {
      "text/html": [
       "<pre style=\"white-space:pre;overflow-x:auto;line-height:normal;font-family:Menlo,'DejaVu Sans Mono',consolas,'Courier New',monospace\"><span style=\"color: #7fbfbf; text-decoration-color: #7fbfbf\">[03/31/23 00:18:15] </span><span style=\"color: #000080; text-decoration-color: #000080\">INFO    </span> <span style=\"color: #00ff00; text-decoration-color: #00ff00; font-weight: bold\">127.0.0.1</span> - - <span style=\"font-weight: bold\">[</span><span style=\"color: #008080; text-decoration-color: #008080; font-weight: bold\">31</span>/Mar/<span style=\"color: #008080; text-decoration-color: #008080; font-weight: bold\">2023</span> <span style=\"color: #00ff00; text-decoration-color: #00ff00; font-weight: bold\">00:18:15</span><span style=\"font-weight: bold\">]</span> <span style=\"color: #008000; text-decoration-color: #008000\">\"</span><span style=\"color: #808000; text-decoration-color: #808000; font-weight: bold\">GET</span><span style=\"color: #008000; text-decoration-color: #008000\"> /data HTTP/1.1\"</span> <span style=\"color: #008080; text-decoration-color: #008080; font-weight: bold\">200</span> -       <span style=\"color: #7f7f7f; text-decoration-color: #7f7f7f\">_internal.py:224</span>\n",
       "</pre>\n"
      ],
      "text/plain": [
       "\u001b[2;36m[03/31/23 00:18:15]\u001b[0m\u001b[2;36m \u001b[0m\u001b[34mINFO    \u001b[0m \u001b[1;92m127.0.0.1\u001b[0m - - \u001b[1m[\u001b[0m\u001b[1;36m31\u001b[0m/Mar/\u001b[1;36m2023\u001b[0m \u001b[1;92m00:18:15\u001b[0m\u001b[1m]\u001b[0m \u001b[32m\"\u001b[0m\u001b[1;33mGET\u001b[0m\u001b[32m /data HTTP/1.1\"\u001b[0m \u001b[1;36m200\u001b[0m -       \u001b[2m_internal.py\u001b[0m\u001b[2m:\u001b[0m\u001b[2m224\u001b[0m\n"
      ]
     },
     "metadata": {},
     "output_type": "display_data"
    },
    {
     "data": {
      "text/html": [
       "<pre style=\"white-space:pre;overflow-x:auto;line-height:normal;font-family:Menlo,'DejaVu Sans Mono',consolas,'Courier New',monospace\"><span style=\"color: #7fbfbf; text-decoration-color: #7fbfbf\">[03/31/23 00:18:16] </span><span style=\"color: #000080; text-decoration-color: #000080\">INFO    </span> <span style=\"color: #00ff00; text-decoration-color: #00ff00; font-weight: bold\">127.0.0.1</span> - - <span style=\"font-weight: bold\">[</span><span style=\"color: #008080; text-decoration-color: #008080; font-weight: bold\">31</span>/Mar/<span style=\"color: #008080; text-decoration-color: #008080; font-weight: bold\">2023</span> <span style=\"color: #00ff00; text-decoration-color: #00ff00; font-weight: bold\">00:18:16</span><span style=\"font-weight: bold\">]</span> <span style=\"color: #008000; text-decoration-color: #008000\">\"</span><span style=\"color: #808000; text-decoration-color: #808000; font-weight: bold\">GET</span><span style=\"color: #008000; text-decoration-color: #008000\"> /data/Amad%20Diallo </span>        <span style=\"color: #7f7f7f; text-decoration-color: #7f7f7f\">_internal.py:224</span>\n",
       "<span style=\"color: #7fbfbf; text-decoration-color: #7fbfbf\">                    </span>         <span style=\"color: #008000; text-decoration-color: #008000\">HTTP/1.1\"</span> <span style=\"color: #008080; text-decoration-color: #008080; font-weight: bold\">200</span> -                                                       <span style=\"color: #7f7f7f; text-decoration-color: #7f7f7f\">                </span>\n",
       "</pre>\n"
      ],
      "text/plain": [
       "\u001b[2;36m[03/31/23 00:18:16]\u001b[0m\u001b[2;36m \u001b[0m\u001b[34mINFO    \u001b[0m \u001b[1;92m127.0.0.1\u001b[0m - - \u001b[1m[\u001b[0m\u001b[1;36m31\u001b[0m/Mar/\u001b[1;36m2023\u001b[0m \u001b[1;92m00:18:16\u001b[0m\u001b[1m]\u001b[0m \u001b[32m\"\u001b[0m\u001b[1;33mGET\u001b[0m\u001b[32m /data/Amad%20Diallo \u001b[0m        \u001b[2m_internal.py\u001b[0m\u001b[2m:\u001b[0m\u001b[2m224\u001b[0m\n",
       "\u001b[2;36m                    \u001b[0m         \u001b[32mHTTP/1.1\"\u001b[0m \u001b[1;36m200\u001b[0m -                                                       \u001b[2m                \u001b[0m\n"
      ]
     },
     "metadata": {},
     "output_type": "display_data"
    },
    {
     "data": {
      "text/html": [
       "<pre style=\"white-space:pre;overflow-x:auto;line-height:normal;font-family:Menlo,'DejaVu Sans Mono',consolas,'Courier New',monospace\"><span style=\"color: #7fbfbf; text-decoration-color: #7fbfbf\">[03/31/23 00:18:19] </span><span style=\"color: #000080; text-decoration-color: #000080\">INFO    </span> <span style=\"color: #00ff00; text-decoration-color: #00ff00; font-weight: bold\">127.0.0.1</span> - - <span style=\"font-weight: bold\">[</span><span style=\"color: #008080; text-decoration-color: #008080; font-weight: bold\">31</span>/Mar/<span style=\"color: #008080; text-decoration-color: #008080; font-weight: bold\">2023</span> <span style=\"color: #00ff00; text-decoration-color: #00ff00; font-weight: bold\">00:18:19</span><span style=\"font-weight: bold\">]</span> <span style=\"color: #008000; text-decoration-color: #008000\">\"</span><span style=\"color: #808000; text-decoration-color: #808000; font-weight: bold\">GET</span><span style=\"color: #008000; text-decoration-color: #008000\"> /data HTTP/1.1\"</span> <span style=\"color: #008080; text-decoration-color: #008080; font-weight: bold\">200</span> -       <span style=\"color: #7f7f7f; text-decoration-color: #7f7f7f\">_internal.py:224</span>\n",
       "</pre>\n"
      ],
      "text/plain": [
       "\u001b[2;36m[03/31/23 00:18:19]\u001b[0m\u001b[2;36m \u001b[0m\u001b[34mINFO    \u001b[0m \u001b[1;92m127.0.0.1\u001b[0m - - \u001b[1m[\u001b[0m\u001b[1;36m31\u001b[0m/Mar/\u001b[1;36m2023\u001b[0m \u001b[1;92m00:18:19\u001b[0m\u001b[1m]\u001b[0m \u001b[32m\"\u001b[0m\u001b[1;33mGET\u001b[0m\u001b[32m /data HTTP/1.1\"\u001b[0m \u001b[1;36m200\u001b[0m -       \u001b[2m_internal.py\u001b[0m\u001b[2m:\u001b[0m\u001b[2m224\u001b[0m\n"
      ]
     },
     "metadata": {},
     "output_type": "display_data"
    },
    {
     "data": {
      "text/html": [
       "<pre style=\"white-space:pre;overflow-x:auto;line-height:normal;font-family:Menlo,'DejaVu Sans Mono',consolas,'Courier New',monospace\"><span style=\"color: #7fbfbf; text-decoration-color: #7fbfbf\">[03/31/23 00:18:20] </span><span style=\"color: #000080; text-decoration-color: #000080\">INFO    </span> <span style=\"color: #00ff00; text-decoration-color: #00ff00; font-weight: bold\">127.0.0.1</span> - - <span style=\"font-weight: bold\">[</span><span style=\"color: #008080; text-decoration-color: #008080; font-weight: bold\">31</span>/Mar/<span style=\"color: #008080; text-decoration-color: #008080; font-weight: bold\">2023</span> <span style=\"color: #00ff00; text-decoration-color: #00ff00; font-weight: bold\">00:18:20</span><span style=\"font-weight: bold\">]</span> <span style=\"color: #008000; text-decoration-color: #008000\">\"</span><span style=\"color: #808000; text-decoration-color: #808000; font-weight: bold\">GET</span><span style=\"color: #008000; text-decoration-color: #008000\"> /data/Berat%20Djimsiti </span>     <span style=\"color: #7f7f7f; text-decoration-color: #7f7f7f\">_internal.py:224</span>\n",
       "<span style=\"color: #7fbfbf; text-decoration-color: #7fbfbf\">                    </span>         <span style=\"color: #008000; text-decoration-color: #008000\">HTTP/1.1\"</span> <span style=\"color: #008080; text-decoration-color: #008080; font-weight: bold\">200</span> -                                                       <span style=\"color: #7f7f7f; text-decoration-color: #7f7f7f\">                </span>\n",
       "</pre>\n"
      ],
      "text/plain": [
       "\u001b[2;36m[03/31/23 00:18:20]\u001b[0m\u001b[2;36m \u001b[0m\u001b[34mINFO    \u001b[0m \u001b[1;92m127.0.0.1\u001b[0m - - \u001b[1m[\u001b[0m\u001b[1;36m31\u001b[0m/Mar/\u001b[1;36m2023\u001b[0m \u001b[1;92m00:18:20\u001b[0m\u001b[1m]\u001b[0m \u001b[32m\"\u001b[0m\u001b[1;33mGET\u001b[0m\u001b[32m /data/Berat%20Djimsiti \u001b[0m     \u001b[2m_internal.py\u001b[0m\u001b[2m:\u001b[0m\u001b[2m224\u001b[0m\n",
       "\u001b[2;36m                    \u001b[0m         \u001b[32mHTTP/1.1\"\u001b[0m \u001b[1;36m200\u001b[0m -                                                       \u001b[2m                \u001b[0m\n"
      ]
     },
     "metadata": {},
     "output_type": "display_data"
    },
    {
     "data": {
      "text/html": [
       "<pre style=\"white-space:pre;overflow-x:auto;line-height:normal;font-family:Menlo,'DejaVu Sans Mono',consolas,'Courier New',monospace\"><span style=\"color: #7fbfbf; text-decoration-color: #7fbfbf\">[03/31/23 00:18:22] </span><span style=\"color: #000080; text-decoration-color: #000080\">INFO    </span> <span style=\"color: #00ff00; text-decoration-color: #00ff00; font-weight: bold\">127.0.0.1</span> - - <span style=\"font-weight: bold\">[</span><span style=\"color: #008080; text-decoration-color: #008080; font-weight: bold\">31</span>/Mar/<span style=\"color: #008080; text-decoration-color: #008080; font-weight: bold\">2023</span> <span style=\"color: #00ff00; text-decoration-color: #00ff00; font-weight: bold\">00:18:22</span><span style=\"font-weight: bold\">]</span> <span style=\"color: #008000; text-decoration-color: #008000\">\"</span><span style=\"color: #808000; text-decoration-color: #808000; font-weight: bold\">GET</span><span style=\"color: #008000; text-decoration-color: #008000\"> /data HTTP/1.1\"</span> <span style=\"color: #008080; text-decoration-color: #008080; font-weight: bold\">200</span> -       <span style=\"color: #7f7f7f; text-decoration-color: #7f7f7f\">_internal.py:224</span>\n",
       "</pre>\n"
      ],
      "text/plain": [
       "\u001b[2;36m[03/31/23 00:18:22]\u001b[0m\u001b[2;36m \u001b[0m\u001b[34mINFO    \u001b[0m \u001b[1;92m127.0.0.1\u001b[0m - - \u001b[1m[\u001b[0m\u001b[1;36m31\u001b[0m/Mar/\u001b[1;36m2023\u001b[0m \u001b[1;92m00:18:22\u001b[0m\u001b[1m]\u001b[0m \u001b[32m\"\u001b[0m\u001b[1;33mGET\u001b[0m\u001b[32m /data HTTP/1.1\"\u001b[0m \u001b[1;36m200\u001b[0m -       \u001b[2m_internal.py\u001b[0m\u001b[2m:\u001b[0m\u001b[2m224\u001b[0m\n"
      ]
     },
     "metadata": {},
     "output_type": "display_data"
    },
    {
     "data": {
      "text/html": [
       "<pre style=\"white-space:pre;overflow-x:auto;line-height:normal;font-family:Menlo,'DejaVu Sans Mono',consolas,'Courier New',monospace\"><span style=\"color: #7fbfbf; text-decoration-color: #7fbfbf\">[03/31/23 00:18:25] </span><span style=\"color: #000080; text-decoration-color: #000080\">INFO    </span> <span style=\"color: #00ff00; text-decoration-color: #00ff00; font-weight: bold\">127.0.0.1</span> - - <span style=\"font-weight: bold\">[</span><span style=\"color: #008080; text-decoration-color: #008080; font-weight: bold\">31</span>/Mar/<span style=\"color: #008080; text-decoration-color: #008080; font-weight: bold\">2023</span> <span style=\"color: #00ff00; text-decoration-color: #00ff00; font-weight: bold\">00:18:25</span><span style=\"font-weight: bold\">]</span> <span style=\"color: #008000; text-decoration-color: #008000\">\"</span><span style=\"color: #808000; text-decoration-color: #808000; font-weight: bold\">GET</span><span style=\"color: #008000; text-decoration-color: #008000\"> /data/Aleksei%20Miranchuk </span>  <span style=\"color: #7f7f7f; text-decoration-color: #7f7f7f\">_internal.py:224</span>\n",
       "<span style=\"color: #7fbfbf; text-decoration-color: #7fbfbf\">                    </span>         <span style=\"color: #008000; text-decoration-color: #008000\">HTTP/1.1\"</span> <span style=\"color: #008080; text-decoration-color: #008080; font-weight: bold\">200</span> -                                                       <span style=\"color: #7f7f7f; text-decoration-color: #7f7f7f\">                </span>\n",
       "</pre>\n"
      ],
      "text/plain": [
       "\u001b[2;36m[03/31/23 00:18:25]\u001b[0m\u001b[2;36m \u001b[0m\u001b[34mINFO    \u001b[0m \u001b[1;92m127.0.0.1\u001b[0m - - \u001b[1m[\u001b[0m\u001b[1;36m31\u001b[0m/Mar/\u001b[1;36m2023\u001b[0m \u001b[1;92m00:18:25\u001b[0m\u001b[1m]\u001b[0m \u001b[32m\"\u001b[0m\u001b[1;33mGET\u001b[0m\u001b[32m /data/Aleksei%20Miranchuk \u001b[0m  \u001b[2m_internal.py\u001b[0m\u001b[2m:\u001b[0m\u001b[2m224\u001b[0m\n",
       "\u001b[2;36m                    \u001b[0m         \u001b[32mHTTP/1.1\"\u001b[0m \u001b[1;36m200\u001b[0m -                                                       \u001b[2m                \u001b[0m\n"
      ]
     },
     "metadata": {},
     "output_type": "display_data"
    },
    {
     "data": {
      "text/html": [
       "<pre style=\"white-space:pre;overflow-x:auto;line-height:normal;font-family:Menlo,'DejaVu Sans Mono',consolas,'Courier New',monospace\"><span style=\"color: #7fbfbf; text-decoration-color: #7fbfbf\">[03/31/23 00:18:27] </span><span style=\"color: #000080; text-decoration-color: #000080\">INFO    </span> <span style=\"color: #00ff00; text-decoration-color: #00ff00; font-weight: bold\">127.0.0.1</span> - - <span style=\"font-weight: bold\">[</span><span style=\"color: #008080; text-decoration-color: #008080; font-weight: bold\">31</span>/Mar/<span style=\"color: #008080; text-decoration-color: #008080; font-weight: bold\">2023</span> <span style=\"color: #00ff00; text-decoration-color: #00ff00; font-weight: bold\">00:18:27</span><span style=\"font-weight: bold\">]</span> <span style=\"color: #008000; text-decoration-color: #008000\">\"</span><span style=\"color: #808000; text-decoration-color: #808000; font-weight: bold\">GET</span><span style=\"color: #008000; text-decoration-color: #008000\"> /data HTTP/1.1\"</span> <span style=\"color: #008080; text-decoration-color: #008080; font-weight: bold\">200</span> -       <span style=\"color: #7f7f7f; text-decoration-color: #7f7f7f\">_internal.py:224</span>\n",
       "</pre>\n"
      ],
      "text/plain": [
       "\u001b[2;36m[03/31/23 00:18:27]\u001b[0m\u001b[2;36m \u001b[0m\u001b[34mINFO    \u001b[0m \u001b[1;92m127.0.0.1\u001b[0m - - \u001b[1m[\u001b[0m\u001b[1;36m31\u001b[0m/Mar/\u001b[1;36m2023\u001b[0m \u001b[1;92m00:18:27\u001b[0m\u001b[1m]\u001b[0m \u001b[32m\"\u001b[0m\u001b[1;33mGET\u001b[0m\u001b[32m /data HTTP/1.1\"\u001b[0m \u001b[1;36m200\u001b[0m -       \u001b[2m_internal.py\u001b[0m\u001b[2m:\u001b[0m\u001b[2m224\u001b[0m\n"
      ]
     },
     "metadata": {},
     "output_type": "display_data"
    },
    {
     "data": {
      "text/html": [
       "<pre style=\"white-space:pre;overflow-x:auto;line-height:normal;font-family:Menlo,'DejaVu Sans Mono',consolas,'Courier New',monospace\"><span style=\"color: #7fbfbf; text-decoration-color: #7fbfbf\">[03/31/23 00:18:29] </span><span style=\"color: #000080; text-decoration-color: #000080\">INFO    </span> <span style=\"color: #00ff00; text-decoration-color: #00ff00; font-weight: bold\">127.0.0.1</span> - - <span style=\"font-weight: bold\">[</span><span style=\"color: #008080; text-decoration-color: #008080; font-weight: bold\">31</span>/Mar/<span style=\"color: #008080; text-decoration-color: #008080; font-weight: bold\">2023</span> <span style=\"color: #00ff00; text-decoration-color: #00ff00; font-weight: bold\">00:18:29</span><span style=\"font-weight: bold\">]</span> <span style=\"color: #008000; text-decoration-color: #008000\">\"</span><span style=\"color: #808000; text-decoration-color: #808000; font-weight: bold\">GET</span><span style=\"color: #008000; text-decoration-color: #008000\"> /data/Bosko%20Sutalo </span>       <span style=\"color: #7f7f7f; text-decoration-color: #7f7f7f\">_internal.py:224</span>\n",
       "<span style=\"color: #7fbfbf; text-decoration-color: #7fbfbf\">                    </span>         <span style=\"color: #008000; text-decoration-color: #008000\">HTTP/1.1\"</span> <span style=\"color: #008080; text-decoration-color: #008080; font-weight: bold\">200</span> -                                                       <span style=\"color: #7f7f7f; text-decoration-color: #7f7f7f\">                </span>\n",
       "</pre>\n"
      ],
      "text/plain": [
       "\u001b[2;36m[03/31/23 00:18:29]\u001b[0m\u001b[2;36m \u001b[0m\u001b[34mINFO    \u001b[0m \u001b[1;92m127.0.0.1\u001b[0m - - \u001b[1m[\u001b[0m\u001b[1;36m31\u001b[0m/Mar/\u001b[1;36m2023\u001b[0m \u001b[1;92m00:18:29\u001b[0m\u001b[1m]\u001b[0m \u001b[32m\"\u001b[0m\u001b[1;33mGET\u001b[0m\u001b[32m /data/Bosko%20Sutalo \u001b[0m       \u001b[2m_internal.py\u001b[0m\u001b[2m:\u001b[0m\u001b[2m224\u001b[0m\n",
       "\u001b[2;36m                    \u001b[0m         \u001b[32mHTTP/1.1\"\u001b[0m \u001b[1;36m200\u001b[0m -                                                       \u001b[2m                \u001b[0m\n"
      ]
     },
     "metadata": {},
     "output_type": "display_data"
    },
    {
     "data": {
      "text/html": [
       "<pre style=\"white-space:pre;overflow-x:auto;line-height:normal;font-family:Menlo,'DejaVu Sans Mono',consolas,'Courier New',monospace\"><span style=\"color: #7fbfbf; text-decoration-color: #7fbfbf\">[03/31/23 00:18:35] </span><span style=\"color: #000080; text-decoration-color: #000080\">INFO    </span> <span style=\"color: #00ff00; text-decoration-color: #00ff00; font-weight: bold\">127.0.0.1</span> - - <span style=\"font-weight: bold\">[</span><span style=\"color: #008080; text-decoration-color: #008080; font-weight: bold\">31</span>/Mar/<span style=\"color: #008080; text-decoration-color: #008080; font-weight: bold\">2023</span> <span style=\"color: #00ff00; text-decoration-color: #00ff00; font-weight: bold\">00:18:35</span><span style=\"font-weight: bold\">]</span> <span style=\"color: #008000; text-decoration-color: #008000\">\"</span><span style=\"color: #808000; text-decoration-color: #808000; font-weight: bold\">GET</span><span style=\"color: #008000; text-decoration-color: #008000\"> /data HTTP/1.1\"</span> <span style=\"color: #008080; text-decoration-color: #008080; font-weight: bold\">200</span> -       <span style=\"color: #7f7f7f; text-decoration-color: #7f7f7f\">_internal.py:224</span>\n",
       "</pre>\n"
      ],
      "text/plain": [
       "\u001b[2;36m[03/31/23 00:18:35]\u001b[0m\u001b[2;36m \u001b[0m\u001b[34mINFO    \u001b[0m \u001b[1;92m127.0.0.1\u001b[0m - - \u001b[1m[\u001b[0m\u001b[1;36m31\u001b[0m/Mar/\u001b[1;36m2023\u001b[0m \u001b[1;92m00:18:35\u001b[0m\u001b[1m]\u001b[0m \u001b[32m\"\u001b[0m\u001b[1;33mGET\u001b[0m\u001b[32m /data HTTP/1.1\"\u001b[0m \u001b[1;36m200\u001b[0m -       \u001b[2m_internal.py\u001b[0m\u001b[2m:\u001b[0m\u001b[2m224\u001b[0m\n"
      ]
     },
     "metadata": {},
     "output_type": "display_data"
    },
    {
     "data": {
      "text/html": [
       "<pre style=\"white-space:pre;overflow-x:auto;line-height:normal;font-family:Menlo,'DejaVu Sans Mono',consolas,'Courier New',monospace\"><span style=\"color: #7fbfbf; text-decoration-color: #7fbfbf\">[03/31/23 00:18:36] </span><span style=\"color: #000080; text-decoration-color: #000080\">INFO    </span> <span style=\"color: #00ff00; text-decoration-color: #00ff00; font-weight: bold\">127.0.0.1</span> - - <span style=\"font-weight: bold\">[</span><span style=\"color: #008080; text-decoration-color: #008080; font-weight: bold\">31</span>/Mar/<span style=\"color: #008080; text-decoration-color: #008080; font-weight: bold\">2023</span> <span style=\"color: #00ff00; text-decoration-color: #00ff00; font-weight: bold\">00:18:36</span><span style=\"font-weight: bold\">]</span> <span style=\"color: #008000; text-decoration-color: #008000\">\"</span><span style=\"color: #808000; text-decoration-color: #808000; font-weight: bold\">GET</span><span style=\"color: #008000; text-decoration-color: #008000\"> /data/Bosko%20Sutalo </span>       <span style=\"color: #7f7f7f; text-decoration-color: #7f7f7f\">_internal.py:224</span>\n",
       "<span style=\"color: #7fbfbf; text-decoration-color: #7fbfbf\">                    </span>         <span style=\"color: #008000; text-decoration-color: #008000\">HTTP/1.1\"</span> <span style=\"color: #008080; text-decoration-color: #008080; font-weight: bold\">200</span> -                                                       <span style=\"color: #7f7f7f; text-decoration-color: #7f7f7f\">                </span>\n",
       "</pre>\n"
      ],
      "text/plain": [
       "\u001b[2;36m[03/31/23 00:18:36]\u001b[0m\u001b[2;36m \u001b[0m\u001b[34mINFO    \u001b[0m \u001b[1;92m127.0.0.1\u001b[0m - - \u001b[1m[\u001b[0m\u001b[1;36m31\u001b[0m/Mar/\u001b[1;36m2023\u001b[0m \u001b[1;92m00:18:36\u001b[0m\u001b[1m]\u001b[0m \u001b[32m\"\u001b[0m\u001b[1;33mGET\u001b[0m\u001b[32m /data/Bosko%20Sutalo \u001b[0m       \u001b[2m_internal.py\u001b[0m\u001b[2m:\u001b[0m\u001b[2m224\u001b[0m\n",
       "\u001b[2;36m                    \u001b[0m         \u001b[32mHTTP/1.1\"\u001b[0m \u001b[1;36m200\u001b[0m -                                                       \u001b[2m                \u001b[0m\n"
      ]
     },
     "metadata": {},
     "output_type": "display_data"
    },
    {
     "data": {
      "text/html": [
       "<pre style=\"white-space:pre;overflow-x:auto;line-height:normal;font-family:Menlo,'DejaVu Sans Mono',consolas,'Courier New',monospace\"><span style=\"color: #7fbfbf; text-decoration-color: #7fbfbf\">[03/31/23 00:18:38] </span><span style=\"color: #000080; text-decoration-color: #000080\">INFO    </span> <span style=\"color: #00ff00; text-decoration-color: #00ff00; font-weight: bold\">127.0.0.1</span> - - <span style=\"font-weight: bold\">[</span><span style=\"color: #008080; text-decoration-color: #008080; font-weight: bold\">31</span>/Mar/<span style=\"color: #008080; text-decoration-color: #008080; font-weight: bold\">2023</span> <span style=\"color: #00ff00; text-decoration-color: #00ff00; font-weight: bold\">00:18:38</span><span style=\"font-weight: bold\">]</span> <span style=\"color: #008000; text-decoration-color: #008000\">\"</span><span style=\"color: #808000; text-decoration-color: #808000; font-weight: bold\">GET</span><span style=\"color: #008000; text-decoration-color: #008000\"> /data HTTP/1.1\"</span> <span style=\"color: #008080; text-decoration-color: #008080; font-weight: bold\">200</span> -       <span style=\"color: #7f7f7f; text-decoration-color: #7f7f7f\">_internal.py:224</span>\n",
       "</pre>\n"
      ],
      "text/plain": [
       "\u001b[2;36m[03/31/23 00:18:38]\u001b[0m\u001b[2;36m \u001b[0m\u001b[34mINFO    \u001b[0m \u001b[1;92m127.0.0.1\u001b[0m - - \u001b[1m[\u001b[0m\u001b[1;36m31\u001b[0m/Mar/\u001b[1;36m2023\u001b[0m \u001b[1;92m00:18:38\u001b[0m\u001b[1m]\u001b[0m \u001b[32m\"\u001b[0m\u001b[1;33mGET\u001b[0m\u001b[32m /data HTTP/1.1\"\u001b[0m \u001b[1;36m200\u001b[0m -       \u001b[2m_internal.py\u001b[0m\u001b[2m:\u001b[0m\u001b[2m224\u001b[0m\n"
      ]
     },
     "metadata": {},
     "output_type": "display_data"
    },
    {
     "data": {
      "text/html": [
       "<pre style=\"white-space:pre;overflow-x:auto;line-height:normal;font-family:Menlo,'DejaVu Sans Mono',consolas,'Courier New',monospace\"><span style=\"color: #7fbfbf; text-decoration-color: #7fbfbf\">[03/31/23 00:18:40] </span><span style=\"color: #000080; text-decoration-color: #000080\">INFO    </span> <span style=\"color: #00ff00; text-decoration-color: #00ff00; font-weight: bold\">127.0.0.1</span> - - <span style=\"font-weight: bold\">[</span><span style=\"color: #008080; text-decoration-color: #008080; font-weight: bold\">31</span>/Mar/<span style=\"color: #008080; text-decoration-color: #008080; font-weight: bold\">2023</span> <span style=\"color: #00ff00; text-decoration-color: #00ff00; font-weight: bold\">00:18:40</span><span style=\"font-weight: bold\">]</span> <span style=\"color: #008000; text-decoration-color: #008000\">\"</span><span style=\"color: #808000; text-decoration-color: #808000; font-weight: bold\">GET</span><span style=\"color: #008000; text-decoration-color: #008000\"> </span>                            <span style=\"color: #7f7f7f; text-decoration-color: #7f7f7f\">_internal.py:224</span>\n",
       "<span style=\"color: #7fbfbf; text-decoration-color: #7fbfbf\">                    </span>         <span style=\"color: #008000; text-decoration-color: #008000\">/data/Davide%20Angelo%20Ghislandi HTTP/1.1\"</span> <span style=\"color: #008080; text-decoration-color: #008080; font-weight: bold\">200</span> -                     <span style=\"color: #7f7f7f; text-decoration-color: #7f7f7f\">                </span>\n",
       "</pre>\n"
      ],
      "text/plain": [
       "\u001b[2;36m[03/31/23 00:18:40]\u001b[0m\u001b[2;36m \u001b[0m\u001b[34mINFO    \u001b[0m \u001b[1;92m127.0.0.1\u001b[0m - - \u001b[1m[\u001b[0m\u001b[1;36m31\u001b[0m/Mar/\u001b[1;36m2023\u001b[0m \u001b[1;92m00:18:40\u001b[0m\u001b[1m]\u001b[0m \u001b[32m\"\u001b[0m\u001b[1;33mGET\u001b[0m\u001b[32m \u001b[0m                            \u001b[2m_internal.py\u001b[0m\u001b[2m:\u001b[0m\u001b[2m224\u001b[0m\n",
       "\u001b[2;36m                    \u001b[0m         \u001b[32m/data/Davide%20Angelo%20Ghislandi HTTP/1.1\"\u001b[0m \u001b[1;36m200\u001b[0m -                     \u001b[2m                \u001b[0m\n"
      ]
     },
     "metadata": {},
     "output_type": "display_data"
    },
    {
     "data": {
      "text/html": [
       "<pre style=\"white-space:pre;overflow-x:auto;line-height:normal;font-family:Menlo,'DejaVu Sans Mono',consolas,'Courier New',monospace\"><span style=\"color: #7fbfbf; text-decoration-color: #7fbfbf\">[03/31/23 00:18:42] </span><span style=\"color: #000080; text-decoration-color: #000080\">INFO    </span> <span style=\"color: #00ff00; text-decoration-color: #00ff00; font-weight: bold\">127.0.0.1</span> - - <span style=\"font-weight: bold\">[</span><span style=\"color: #008080; text-decoration-color: #008080; font-weight: bold\">31</span>/Mar/<span style=\"color: #008080; text-decoration-color: #008080; font-weight: bold\">2023</span> <span style=\"color: #00ff00; text-decoration-color: #00ff00; font-weight: bold\">00:18:42</span><span style=\"font-weight: bold\">]</span> <span style=\"color: #008000; text-decoration-color: #008000\">\"</span><span style=\"color: #808000; text-decoration-color: #808000; font-weight: bold\">GET</span><span style=\"color: #008000; text-decoration-color: #008000\"> /data HTTP/1.1\"</span> <span style=\"color: #008080; text-decoration-color: #008080; font-weight: bold\">200</span> -       <span style=\"color: #7f7f7f; text-decoration-color: #7f7f7f\">_internal.py:224</span>\n",
       "</pre>\n"
      ],
      "text/plain": [
       "\u001b[2;36m[03/31/23 00:18:42]\u001b[0m\u001b[2;36m \u001b[0m\u001b[34mINFO    \u001b[0m \u001b[1;92m127.0.0.1\u001b[0m - - \u001b[1m[\u001b[0m\u001b[1;36m31\u001b[0m/Mar/\u001b[1;36m2023\u001b[0m \u001b[1;92m00:18:42\u001b[0m\u001b[1m]\u001b[0m \u001b[32m\"\u001b[0m\u001b[1;33mGET\u001b[0m\u001b[32m /data HTTP/1.1\"\u001b[0m \u001b[1;36m200\u001b[0m -       \u001b[2m_internal.py\u001b[0m\u001b[2m:\u001b[0m\u001b[2m224\u001b[0m\n"
      ]
     },
     "metadata": {},
     "output_type": "display_data"
    },
    {
     "data": {
      "text/html": [
       "<pre style=\"white-space:pre;overflow-x:auto;line-height:normal;font-family:Menlo,'DejaVu Sans Mono',consolas,'Courier New',monospace\"><span style=\"color: #7fbfbf; text-decoration-color: #7fbfbf\">[03/31/23 00:18:44] </span><span style=\"color: #000080; text-decoration-color: #000080\">INFO    </span> <span style=\"color: #00ff00; text-decoration-color: #00ff00; font-weight: bold\">127.0.0.1</span> - - <span style=\"font-weight: bold\">[</span><span style=\"color: #008080; text-decoration-color: #008080; font-weight: bold\">31</span>/Mar/<span style=\"color: #008080; text-decoration-color: #008080; font-weight: bold\">2023</span> <span style=\"color: #00ff00; text-decoration-color: #00ff00; font-weight: bold\">00:18:44</span><span style=\"font-weight: bold\">]</span> <span style=\"color: #008000; text-decoration-color: #008000\">\"</span><span style=\"color: #808000; text-decoration-color: #808000; font-weight: bold\">GET</span><span style=\"color: #008000; text-decoration-color: #008000\"> /data/Berat%20Djimsiti </span>     <span style=\"color: #7f7f7f; text-decoration-color: #7f7f7f\">_internal.py:224</span>\n",
       "<span style=\"color: #7fbfbf; text-decoration-color: #7fbfbf\">                    </span>         <span style=\"color: #008000; text-decoration-color: #008000\">HTTP/1.1\"</span> <span style=\"color: #008080; text-decoration-color: #008080; font-weight: bold\">200</span> -                                                       <span style=\"color: #7f7f7f; text-decoration-color: #7f7f7f\">                </span>\n",
       "</pre>\n"
      ],
      "text/plain": [
       "\u001b[2;36m[03/31/23 00:18:44]\u001b[0m\u001b[2;36m \u001b[0m\u001b[34mINFO    \u001b[0m \u001b[1;92m127.0.0.1\u001b[0m - - \u001b[1m[\u001b[0m\u001b[1;36m31\u001b[0m/Mar/\u001b[1;36m2023\u001b[0m \u001b[1;92m00:18:44\u001b[0m\u001b[1m]\u001b[0m \u001b[32m\"\u001b[0m\u001b[1;33mGET\u001b[0m\u001b[32m /data/Berat%20Djimsiti \u001b[0m     \u001b[2m_internal.py\u001b[0m\u001b[2m:\u001b[0m\u001b[2m224\u001b[0m\n",
       "\u001b[2;36m                    \u001b[0m         \u001b[32mHTTP/1.1\"\u001b[0m \u001b[1;36m200\u001b[0m -                                                       \u001b[2m                \u001b[0m\n"
      ]
     },
     "metadata": {},
     "output_type": "display_data"
    },
    {
     "data": {
      "text/html": [
       "<pre style=\"white-space:pre;overflow-x:auto;line-height:normal;font-family:Menlo,'DejaVu Sans Mono',consolas,'Courier New',monospace\"><span style=\"color: #7fbfbf; text-decoration-color: #7fbfbf\">[03/31/23 00:18:51] </span><span style=\"color: #000080; text-decoration-color: #000080\">INFO    </span> <span style=\"color: #00ff00; text-decoration-color: #00ff00; font-weight: bold\">127.0.0.1</span> - - <span style=\"font-weight: bold\">[</span><span style=\"color: #008080; text-decoration-color: #008080; font-weight: bold\">31</span>/Mar/<span style=\"color: #008080; text-decoration-color: #008080; font-weight: bold\">2023</span> <span style=\"color: #00ff00; text-decoration-color: #00ff00; font-weight: bold\">00:18:51</span><span style=\"font-weight: bold\">]</span> <span style=\"color: #008000; text-decoration-color: #008000\">\"</span><span style=\"color: #808000; text-decoration-color: #808000; font-weight: bold\">GET</span><span style=\"color: #008000; text-decoration-color: #008000\"> /data HTTP/1.1\"</span> <span style=\"color: #008080; text-decoration-color: #008080; font-weight: bold\">200</span> -       <span style=\"color: #7f7f7f; text-decoration-color: #7f7f7f\">_internal.py:224</span>\n",
       "</pre>\n"
      ],
      "text/plain": [
       "\u001b[2;36m[03/31/23 00:18:51]\u001b[0m\u001b[2;36m \u001b[0m\u001b[34mINFO    \u001b[0m \u001b[1;92m127.0.0.1\u001b[0m - - \u001b[1m[\u001b[0m\u001b[1;36m31\u001b[0m/Mar/\u001b[1;36m2023\u001b[0m \u001b[1;92m00:18:51\u001b[0m\u001b[1m]\u001b[0m \u001b[32m\"\u001b[0m\u001b[1;33mGET\u001b[0m\u001b[32m /data HTTP/1.1\"\u001b[0m \u001b[1;36m200\u001b[0m -       \u001b[2m_internal.py\u001b[0m\u001b[2m:\u001b[0m\u001b[2m224\u001b[0m\n"
      ]
     },
     "metadata": {},
     "output_type": "display_data"
    },
    {
     "data": {
      "text/html": [
       "<pre style=\"white-space:pre;overflow-x:auto;line-height:normal;font-family:Menlo,'DejaVu Sans Mono',consolas,'Courier New',monospace\"><span style=\"color: #7fbfbf; text-decoration-color: #7fbfbf\">[03/31/23 00:18:55] </span><span style=\"color: #000080; text-decoration-color: #000080\">INFO    </span> <span style=\"color: #00ff00; text-decoration-color: #00ff00; font-weight: bold\">127.0.0.1</span> - - <span style=\"font-weight: bold\">[</span><span style=\"color: #008080; text-decoration-color: #008080; font-weight: bold\">31</span>/Mar/<span style=\"color: #008080; text-decoration-color: #008080; font-weight: bold\">2023</span> <span style=\"color: #00ff00; text-decoration-color: #00ff00; font-weight: bold\">00:18:55</span><span style=\"font-weight: bold\">]</span> <span style=\"color: #008000; text-decoration-color: #008000\">\"</span><span style=\"color: #808000; text-decoration-color: #808000; font-weight: bold\">GET</span><span style=\"color: #008000; text-decoration-color: #008000\"> /data/Hans%20Hateboer </span>      <span style=\"color: #7f7f7f; text-decoration-color: #7f7f7f\">_internal.py:224</span>\n",
       "<span style=\"color: #7fbfbf; text-decoration-color: #7fbfbf\">                    </span>         <span style=\"color: #008000; text-decoration-color: #008000\">HTTP/1.1\"</span> <span style=\"color: #008080; text-decoration-color: #008080; font-weight: bold\">200</span> -                                                       <span style=\"color: #7f7f7f; text-decoration-color: #7f7f7f\">                </span>\n",
       "</pre>\n"
      ],
      "text/plain": [
       "\u001b[2;36m[03/31/23 00:18:55]\u001b[0m\u001b[2;36m \u001b[0m\u001b[34mINFO    \u001b[0m \u001b[1;92m127.0.0.1\u001b[0m - - \u001b[1m[\u001b[0m\u001b[1;36m31\u001b[0m/Mar/\u001b[1;36m2023\u001b[0m \u001b[1;92m00:18:55\u001b[0m\u001b[1m]\u001b[0m \u001b[32m\"\u001b[0m\u001b[1;33mGET\u001b[0m\u001b[32m /data/Hans%20Hateboer \u001b[0m      \u001b[2m_internal.py\u001b[0m\u001b[2m:\u001b[0m\u001b[2m224\u001b[0m\n",
       "\u001b[2;36m                    \u001b[0m         \u001b[32mHTTP/1.1\"\u001b[0m \u001b[1;36m200\u001b[0m -                                                       \u001b[2m                \u001b[0m\n"
      ]
     },
     "metadata": {},
     "output_type": "display_data"
    },
    {
     "data": {
      "text/html": [
       "<pre style=\"white-space:pre;overflow-x:auto;line-height:normal;font-family:Menlo,'DejaVu Sans Mono',consolas,'Courier New',monospace\"><span style=\"color: #7fbfbf; text-decoration-color: #7fbfbf\">[03/31/23 00:44:06] </span><span style=\"color: #000080; text-decoration-color: #000080\">INFO    </span> <span style=\"color: #00ff00; text-decoration-color: #00ff00; font-weight: bold\">127.0.0.1</span> - - <span style=\"font-weight: bold\">[</span><span style=\"color: #008080; text-decoration-color: #008080; font-weight: bold\">31</span>/Mar/<span style=\"color: #008080; text-decoration-color: #008080; font-weight: bold\">2023</span> <span style=\"color: #00ff00; text-decoration-color: #00ff00; font-weight: bold\">00:44:06</span><span style=\"font-weight: bold\">]</span> <span style=\"color: #008000; text-decoration-color: #008000\">\"</span><span style=\"color: #808000; text-decoration-color: #808000; font-weight: bold\">GET</span><span style=\"color: #008000; text-decoration-color: #008000\"> /data HTTP/1.1\"</span> <span style=\"color: #008080; text-decoration-color: #008080; font-weight: bold\">200</span> -       <span style=\"color: #7f7f7f; text-decoration-color: #7f7f7f\">_internal.py:224</span>\n",
       "</pre>\n"
      ],
      "text/plain": [
       "\u001b[2;36m[03/31/23 00:44:06]\u001b[0m\u001b[2;36m \u001b[0m\u001b[34mINFO    \u001b[0m \u001b[1;92m127.0.0.1\u001b[0m - - \u001b[1m[\u001b[0m\u001b[1;36m31\u001b[0m/Mar/\u001b[1;36m2023\u001b[0m \u001b[1;92m00:44:06\u001b[0m\u001b[1m]\u001b[0m \u001b[32m\"\u001b[0m\u001b[1;33mGET\u001b[0m\u001b[32m /data HTTP/1.1\"\u001b[0m \u001b[1;36m200\u001b[0m -       \u001b[2m_internal.py\u001b[0m\u001b[2m:\u001b[0m\u001b[2m224\u001b[0m\n"
      ]
     },
     "metadata": {},
     "output_type": "display_data"
    },
    {
     "data": {
      "text/html": [
       "<pre style=\"white-space:pre;overflow-x:auto;line-height:normal;font-family:Menlo,'DejaVu Sans Mono',consolas,'Courier New',monospace\"><span style=\"color: #7fbfbf; text-decoration-color: #7fbfbf\">[03/31/23 00:44:12] </span><span style=\"color: #000080; text-decoration-color: #000080\">INFO    </span> <span style=\"color: #00ff00; text-decoration-color: #00ff00; font-weight: bold\">127.0.0.1</span> - - <span style=\"font-weight: bold\">[</span><span style=\"color: #008080; text-decoration-color: #008080; font-weight: bold\">31</span>/Mar/<span style=\"color: #008080; text-decoration-color: #008080; font-weight: bold\">2023</span> <span style=\"color: #00ff00; text-decoration-color: #00ff00; font-weight: bold\">00:44:12</span><span style=\"font-weight: bold\">]</span> <span style=\"color: #008000; text-decoration-color: #008000\">\"</span><span style=\"color: #808000; text-decoration-color: #808000; font-weight: bold\">GET</span><span style=\"color: #008000; text-decoration-color: #008000\"> /data/Aleksei%20Miranchuk </span>  <span style=\"color: #7f7f7f; text-decoration-color: #7f7f7f\">_internal.py:224</span>\n",
       "<span style=\"color: #7fbfbf; text-decoration-color: #7fbfbf\">                    </span>         <span style=\"color: #008000; text-decoration-color: #008000\">HTTP/1.1\"</span> <span style=\"color: #008080; text-decoration-color: #008080; font-weight: bold\">200</span> -                                                       <span style=\"color: #7f7f7f; text-decoration-color: #7f7f7f\">                </span>\n",
       "</pre>\n"
      ],
      "text/plain": [
       "\u001b[2;36m[03/31/23 00:44:12]\u001b[0m\u001b[2;36m \u001b[0m\u001b[34mINFO    \u001b[0m \u001b[1;92m127.0.0.1\u001b[0m - - \u001b[1m[\u001b[0m\u001b[1;36m31\u001b[0m/Mar/\u001b[1;36m2023\u001b[0m \u001b[1;92m00:44:12\u001b[0m\u001b[1m]\u001b[0m \u001b[32m\"\u001b[0m\u001b[1;33mGET\u001b[0m\u001b[32m /data/Aleksei%20Miranchuk \u001b[0m  \u001b[2m_internal.py\u001b[0m\u001b[2m:\u001b[0m\u001b[2m224\u001b[0m\n",
       "\u001b[2;36m                    \u001b[0m         \u001b[32mHTTP/1.1\"\u001b[0m \u001b[1;36m200\u001b[0m -                                                       \u001b[2m                \u001b[0m\n"
      ]
     },
     "metadata": {},
     "output_type": "display_data"
    },
    {
     "data": {
      "text/html": [
       "<pre style=\"white-space:pre;overflow-x:auto;line-height:normal;font-family:Menlo,'DejaVu Sans Mono',consolas,'Courier New',monospace\"><span style=\"color: #7fbfbf; text-decoration-color: #7fbfbf\">[03/31/23 00:44:17] </span><span style=\"color: #000080; text-decoration-color: #000080\">INFO    </span> <span style=\"color: #00ff00; text-decoration-color: #00ff00; font-weight: bold\">127.0.0.1</span> - - <span style=\"font-weight: bold\">[</span><span style=\"color: #008080; text-decoration-color: #008080; font-weight: bold\">31</span>/Mar/<span style=\"color: #008080; text-decoration-color: #008080; font-weight: bold\">2023</span> <span style=\"color: #00ff00; text-decoration-color: #00ff00; font-weight: bold\">00:44:17</span><span style=\"font-weight: bold\">]</span> <span style=\"color: #008000; text-decoration-color: #008000\">\"</span><span style=\"color: #808000; text-decoration-color: #808000; font-weight: bold\">GET</span><span style=\"color: #008000; text-decoration-color: #008000\"> /data HTTP/1.1\"</span> <span style=\"color: #008080; text-decoration-color: #008080; font-weight: bold\">200</span> -       <span style=\"color: #7f7f7f; text-decoration-color: #7f7f7f\">_internal.py:224</span>\n",
       "</pre>\n"
      ],
      "text/plain": [
       "\u001b[2;36m[03/31/23 00:44:17]\u001b[0m\u001b[2;36m \u001b[0m\u001b[34mINFO    \u001b[0m \u001b[1;92m127.0.0.1\u001b[0m - - \u001b[1m[\u001b[0m\u001b[1;36m31\u001b[0m/Mar/\u001b[1;36m2023\u001b[0m \u001b[1;92m00:44:17\u001b[0m\u001b[1m]\u001b[0m \u001b[32m\"\u001b[0m\u001b[1;33mGET\u001b[0m\u001b[32m /data HTTP/1.1\"\u001b[0m \u001b[1;36m200\u001b[0m -       \u001b[2m_internal.py\u001b[0m\u001b[2m:\u001b[0m\u001b[2m224\u001b[0m\n"
      ]
     },
     "metadata": {},
     "output_type": "display_data"
    },
    {
     "data": {
      "text/html": [
       "<pre style=\"white-space:pre;overflow-x:auto;line-height:normal;font-family:Menlo,'DejaVu Sans Mono',consolas,'Courier New',monospace\"><span style=\"color: #7fbfbf; text-decoration-color: #7fbfbf\">[03/31/23 00:44:25] </span><span style=\"color: #000080; text-decoration-color: #000080\">INFO    </span> <span style=\"color: #00ff00; text-decoration-color: #00ff00; font-weight: bold\">127.0.0.1</span> - - <span style=\"font-weight: bold\">[</span><span style=\"color: #008080; text-decoration-color: #008080; font-weight: bold\">31</span>/Mar/<span style=\"color: #008080; text-decoration-color: #008080; font-weight: bold\">2023</span> <span style=\"color: #00ff00; text-decoration-color: #00ff00; font-weight: bold\">00:44:25</span><span style=\"font-weight: bold\">]</span> <span style=\"color: #008000; text-decoration-color: #008000\">\"</span><span style=\"color: #808000; text-decoration-color: #808000; font-weight: bold\">GET</span><span style=\"color: #008000; text-decoration-color: #008000\"> /data/Amad%20Diallo </span>        <span style=\"color: #7f7f7f; text-decoration-color: #7f7f7f\">_internal.py:224</span>\n",
       "<span style=\"color: #7fbfbf; text-decoration-color: #7fbfbf\">                    </span>         <span style=\"color: #008000; text-decoration-color: #008000\">HTTP/1.1\"</span> <span style=\"color: #008080; text-decoration-color: #008080; font-weight: bold\">200</span> -                                                       <span style=\"color: #7f7f7f; text-decoration-color: #7f7f7f\">                </span>\n",
       "</pre>\n"
      ],
      "text/plain": [
       "\u001b[2;36m[03/31/23 00:44:25]\u001b[0m\u001b[2;36m \u001b[0m\u001b[34mINFO    \u001b[0m \u001b[1;92m127.0.0.1\u001b[0m - - \u001b[1m[\u001b[0m\u001b[1;36m31\u001b[0m/Mar/\u001b[1;36m2023\u001b[0m \u001b[1;92m00:44:25\u001b[0m\u001b[1m]\u001b[0m \u001b[32m\"\u001b[0m\u001b[1;33mGET\u001b[0m\u001b[32m /data/Amad%20Diallo \u001b[0m        \u001b[2m_internal.py\u001b[0m\u001b[2m:\u001b[0m\u001b[2m224\u001b[0m\n",
       "\u001b[2;36m                    \u001b[0m         \u001b[32mHTTP/1.1\"\u001b[0m \u001b[1;36m200\u001b[0m -                                                       \u001b[2m                \u001b[0m\n"
      ]
     },
     "metadata": {},
     "output_type": "display_data"
    },
    {
     "data": {
      "text/html": [
       "<pre style=\"white-space:pre;overflow-x:auto;line-height:normal;font-family:Menlo,'DejaVu Sans Mono',consolas,'Courier New',monospace\"><span style=\"color: #7fbfbf; text-decoration-color: #7fbfbf\">[03/31/23 00:44:30] </span><span style=\"color: #000080; text-decoration-color: #000080\">INFO    </span> <span style=\"color: #00ff00; text-decoration-color: #00ff00; font-weight: bold\">127.0.0.1</span> - - <span style=\"font-weight: bold\">[</span><span style=\"color: #008080; text-decoration-color: #008080; font-weight: bold\">31</span>/Mar/<span style=\"color: #008080; text-decoration-color: #008080; font-weight: bold\">2023</span> <span style=\"color: #00ff00; text-decoration-color: #00ff00; font-weight: bold\">00:44:30</span><span style=\"font-weight: bold\">]</span> <span style=\"color: #008000; text-decoration-color: #008000\">\"</span><span style=\"color: #808000; text-decoration-color: #808000; font-weight: bold\">GET</span><span style=\"color: #008000; text-decoration-color: #008000\"> /data HTTP/1.1\"</span> <span style=\"color: #008080; text-decoration-color: #008080; font-weight: bold\">200</span> -       <span style=\"color: #7f7f7f; text-decoration-color: #7f7f7f\">_internal.py:224</span>\n",
       "</pre>\n"
      ],
      "text/plain": [
       "\u001b[2;36m[03/31/23 00:44:30]\u001b[0m\u001b[2;36m \u001b[0m\u001b[34mINFO    \u001b[0m \u001b[1;92m127.0.0.1\u001b[0m - - \u001b[1m[\u001b[0m\u001b[1;36m31\u001b[0m/Mar/\u001b[1;36m2023\u001b[0m \u001b[1;92m00:44:30\u001b[0m\u001b[1m]\u001b[0m \u001b[32m\"\u001b[0m\u001b[1;33mGET\u001b[0m\u001b[32m /data HTTP/1.1\"\u001b[0m \u001b[1;36m200\u001b[0m -       \u001b[2m_internal.py\u001b[0m\u001b[2m:\u001b[0m\u001b[2m224\u001b[0m\n"
      ]
     },
     "metadata": {},
     "output_type": "display_data"
    },
    {
     "data": {
      "text/html": [
       "<pre style=\"white-space:pre;overflow-x:auto;line-height:normal;font-family:Menlo,'DejaVu Sans Mono',consolas,'Courier New',monospace\"><span style=\"color: #7fbfbf; text-decoration-color: #7fbfbf\">[03/31/23 00:44:37] </span><span style=\"color: #000080; text-decoration-color: #000080\">INFO    </span> <span style=\"color: #00ff00; text-decoration-color: #00ff00; font-weight: bold\">127.0.0.1</span> - - <span style=\"font-weight: bold\">[</span><span style=\"color: #008080; text-decoration-color: #008080; font-weight: bold\">31</span>/Mar/<span style=\"color: #008080; text-decoration-color: #008080; font-weight: bold\">2023</span> <span style=\"color: #00ff00; text-decoration-color: #00ff00; font-weight: bold\">00:44:37</span><span style=\"font-weight: bold\">]</span> <span style=\"color: #008000; text-decoration-color: #008000\">\"</span><span style=\"color: #808000; text-decoration-color: #808000; font-weight: bold\">GET</span><span style=\"color: #008000; text-decoration-color: #008000\"> /data HTTP/1.1\"</span> <span style=\"color: #008080; text-decoration-color: #008080; font-weight: bold\">200</span> -       <span style=\"color: #7f7f7f; text-decoration-color: #7f7f7f\">_internal.py:224</span>\n",
       "</pre>\n"
      ],
      "text/plain": [
       "\u001b[2;36m[03/31/23 00:44:37]\u001b[0m\u001b[2;36m \u001b[0m\u001b[34mINFO    \u001b[0m \u001b[1;92m127.0.0.1\u001b[0m - - \u001b[1m[\u001b[0m\u001b[1;36m31\u001b[0m/Mar/\u001b[1;36m2023\u001b[0m \u001b[1;92m00:44:37\u001b[0m\u001b[1m]\u001b[0m \u001b[32m\"\u001b[0m\u001b[1;33mGET\u001b[0m\u001b[32m /data HTTP/1.1\"\u001b[0m \u001b[1;36m200\u001b[0m -       \u001b[2m_internal.py\u001b[0m\u001b[2m:\u001b[0m\u001b[2m224\u001b[0m\n"
      ]
     },
     "metadata": {},
     "output_type": "display_data"
    }
   ],
   "source": [
    "import soccerdata as sd\n",
    "import pandas as pd\n",
    "from flask import Flask, jsonify, Response\n",
    "import json\n",
    "from flask import Flask, request, Response\n",
    "import requests\n",
    "import numpy as np\n",
    "\n",
    "app = Flask(__name__)\n",
    "\n",
    "df = pd.read_csv('Merged_players_Whoscored.csv')\n",
    "\n",
    "# Create a dictionary of player names and their ratings\n",
    "player_ratings = df.set_index('Name')['Rating'].to_dict()\n",
    "def get_top_10_players(league_code, season=2021):\n",
    "    fbref = sd.FBref(leagues=league_code, seasons=season)\n",
    "    player_season_stats = fbref.read_player_season_stats(stat_type=\"standard\")\n",
    "    player_season_stats = player_season_stats.reset_index(level=(\"league\", \"season\", \"team\", \"player\"), col_level=0)\n",
    "    return player_season_stats.head(10)\n",
    "\n",
    "top_10_it = get_top_10_players(\"ITA-Serie A\")\n",
    "top_10_eng = get_top_10_players(\"ENG-Premier League\")\n",
    "top_10_bundesliga = get_top_10_players(\"GER-Bundesliga\")\n",
    "top_10_laliga = get_top_10_players(\"ESP-La Liga\")\n",
    "top_10_ligue1 = get_top_10_players(\"FRA-Ligue 1\")\n",
    "\n",
    "# Merge the dataframes\n",
    "merged_data = pd.concat([top_10_it, top_10_eng, top_10_bundesliga, top_10_laliga, top_10_ligue1], axis=0, ignore_index=True)\n",
    "\n",
    "\n",
    "\n",
    "player_ratings = df.set_index('Name')['Rating'].to_dict()\n",
    "\n",
    "\n",
    "\n",
    "merged_data['rating'] = merged_data['player'].map(player_ratings)\n",
    "merged_data['rating'] = merged_data['rating'].fillna(np.round(np.random.uniform(5, 10)))\n",
    "merged_data['rating'] = merged_data['rating'] * 10\n",
    "merged_data['rating'] = merged_data['rating'].apply(lambda x: int(x))\n",
    "\n",
    "\n",
    "datap = ['https://media-1.api-sports.io/football/players/484.png',\n",
    "        'https://media-2.api-sports.io/football/players/30421.png',\n",
    "        'https://media-1.api-sports.io/football/players/14316.png',\n",
    "        'https://media-2.api-sports.io/football/players/884.png',\n",
    "        None,\n",
    "        None,\n",
    "        'https://media-1.api-sports.io/football/players/2495.png',\n",
    "        'https://media-3.api-sports.io/football/players/30747.png',\n",
    "        'https://media-1.api-sports.io/football/players/30423.png',\n",
    "        'https://media-1.api-sports.io/football/players/1456.png',\n",
    "        'https://media-3.api-sports.io/football/players/1467.png',\n",
    "        'https://media-1.api-sports.io/football/players/1438.png',\n",
    "        'https://media-2.api-sports.io/football/players/1460.png',\n",
    "        'https://media-3.api-sports.io/football/players/19016.png',\n",
    "        'https://media-1.api-sports.io/football/players/190.png',\n",
    "        None,\n",
    "        'https://media-2.api-sports.io/football/players/47522.png',\n",
    "        'https://media-2.api-sports.io/football/players/1468.png',\n",
    "        'https://media-2.api-sports.io/football/players/1161.png',\n",
    "        'https://media-1.api-sports.io/football/players/25011.png',\n",
    "        'https://media-2.api-sports.io/football/players/25010.png',\n",
    "        'https://media-1.api-sports.io/football/players/25030.png',\n",
    "        'https://media-3.api-sports.io/football/players/25355.png',\n",
    "        None,\n",
    "        None,\n",
    "        'https://media-1.api-sports.io/football/players/7682.png',\n",
    "        'https://media-2.api-sports.io/football/players/25007.png',\n",
    "        'https://media-2.api-sports.io/football/players/1144.png',\n",
    "        'https://media-2.api-sports.io/football/players/25499.png',\n",
    "        None,\n",
    "        None,\n",
    "        None,\n",
    "        None,\n",
    "        None,\n",
    "        None,\n",
    "        None,\n",
    "        None,\n",
    "        None,\n",
    "        None,\n",
    "        None,\n",
    "        'https://media-2.api-sports.io/football/players/3234.png',\n",
    "        'https://media-1.api-sports.io/football/players/21146.png',\n",
    "        'https://media-1.api-sports.io/football/players/21446.png',\n",
    "        'https://media-2.api-sports.io/football/players/21153.png',\n",
    "        'https://media-2.api-sports.io/football/players/21652.png',\n",
    "        'https://media-1.api-sports.io/football/players/20656.png',\n",
    "        'https://media-1.api-sports.io/football/players/3177.png',\n",
    "        'https://media-2.api-sports.io/football/players/2049.png',\n",
    "        'https://media-2.api-sports.io/football/players/3237.png',\n",
    "        'https://media-2.api-sports.io/football/players/20633.png'\n",
    "]\n",
    "        \n",
    "dp = pd.DataFrame(datap, columns=['p'])\n",
    "\n",
    "merged_data = pd.concat([merged_data, dp], axis=1)\n",
    "\n",
    "merged_data.columns = [col[0] + ' ' + col[1] if len(col) > 1 and col[1] != '' else col[0] for col in merged_data.columns]\n",
    "\n",
    "\n",
    "\n",
    "def get_leagues():\n",
    "    url = \"https://api-football-v1.p.rapidapi.com/v3/leagues\"\n",
    "    headers = {\n",
    "        \"X-RapidAPI-Key\": \"06b1cce7b7mshd1d68e8b760a40cp1e5a88jsnced3494ddea2\",\n",
    "        \"X-RapidAPI-Host\": \"api-football-v1.p.rapidapi.com\"\n",
    "    }\n",
    "    response = requests.request(\"GET\", url, headers=headers)\n",
    "    data = response.json()\n",
    "    leagues = []\n",
    "    for league in data['response']:\n",
    "        league_id = league['league']['id']\n",
    "        league_name = league['league']['name']\n",
    "        leagues.append({'id': league_id, 'name': league_name})\n",
    "    return leagues\n",
    "\n",
    "def get_league_id(league_name_in_dataframe):\n",
    "    leagues = get_leagues()\n",
    "    league_name_to_search = league_name_in_dataframe.split('-')[1]\n",
    "    league_ids = []\n",
    "    for league in leagues:\n",
    "        if league['name'] == league_name_to_search:\n",
    "            league_ids.append(league['id'])\n",
    "    return league_ids\n",
    "\n",
    "\n",
    "@app.route('/')\n",
    "def hello_world():\n",
    "    return 'Hello, World!'\n",
    "\n",
    "@app.route('/api')\n",
    "def api():\n",
    "    return {'message': 'This is an API endpoint.'}\n",
    "\n",
    "\n",
    "@app.route('/data')\n",
    "def display_data():\n",
    "    json_data = merged_data.to_json(orient='records')\n",
    "    data = json.loads(json_data)\n",
    "    formatted_json = json.dumps(data, indent=4, ensure_ascii=False)\n",
    "    return Response(formatted_json, content_type='application/json')\n",
    "\n",
    "@app.route('/data/<player_name>')\n",
    "def display_data_sibgle(player_name):\n",
    "    player_data = merged_data[merged_data['player'] == player_name]\n",
    "    json_data = player_data.to_json(orient='records')\n",
    "    data = json.loads(json_data)\n",
    "    formatted_json = json.dumps(data, indent=4, ensure_ascii=False)\n",
    "\n",
    "    return Response(formatted_json, content_type='application/json')\n",
    "\n",
    "if __name__ == \"__main__\":\n",
    "    app.run(port=5000)\n"
   ]
  }
 ],
 "metadata": {
  "kernelspec": {
   "display_name": "Python 3",
   "language": "python",
   "name": "python3"
  },
  "language_info": {
   "codemirror_mode": {
    "name": "ipython",
    "version": 3
   },
   "file_extension": ".py",
   "mimetype": "text/x-python",
   "name": "python",
   "nbconvert_exporter": "python",
   "pygments_lexer": "ipython3",
   "version": "3.11.1"
  },
  "orig_nbformat": 4
 },
 "nbformat": 4,
 "nbformat_minor": 2
}
